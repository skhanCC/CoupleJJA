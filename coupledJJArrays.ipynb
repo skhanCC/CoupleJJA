{
 "cells": [
  {
   "cell_type": "code",
   "execution_count": 1,
   "metadata": {},
   "outputs": [],
   "source": [
    "import numpy as np\n",
    "import scipy as sp\n",
    "\n",
    "import numpy.linalg as la\n",
    "import scipy.linalg as sla\n",
    "import scipy.sparse.linalg as ssla\n",
    "\n",
    "from matplotlib import pyplot as plt\n",
    "\n",
    "from CircuitDiagonalization import *"
   ]
  },
  {
   "cell_type": "markdown",
   "metadata": {},
   "source": [
    "# Single cavity - Constant boundary conditions"
   ]
  },
  {
   "cell_type": "code",
   "execution_count": null,
   "metadata": {},
   "outputs": [],
   "source": [
    "# System parameters\n",
    "# Grid size (number of LC units in JJA resonator) \n",
    "Nx = 1000 # Like L\n",
    "# Circuit parameters\n",
    "L, C, Cg = 0.66E-9, 144E-13, 1.89E-16\n",
    "# Number of eigenvalues to compute\n",
    "nEig = 50\n",
    "# Mode number\n",
    "kVec = np.arange(1,nEig+1,1)\n",
    "\n",
    "# Dispersion relation\n",
    "disp = np.sqrt(1 - np.cos(kVec*np.pi/Nx))/np.sqrt( Cg/(2*C) + 1 - np.cos(kVec*np.pi/Nx) )\n",
    "\n",
    "# Compute reference eigenvalues (closed cavity case, Neumann boundary conditions)\n",
    "refVals, refVecs = JJAResClosedEigs(Nx, L, C, Cg, nEig=nEig, bc=\"neu\")\n",
    "# Plasma frequency\n",
    "ω0 = np.sqrt(1/(L*C)) \n",
    "\n",
    "#Wk = wk(np.arange(1,nEig+1,1))\n",
    "# Plot frequencies\n",
    "fig, ax = plt.subplots(1, 1, figsize=(8,6))\n",
    "ax.scatter(np.arange(1,nEig,1), np.real(refVals[1:])/ω0 )\n",
    "ax.plot(np.arange(1,nEig,1), np.real(refVals[1:])/ω0 )\n",
    "ax.plot(kVec, disp, '--')\n",
    "#ax.plot(np.arange(1,nEig+1,1), Wk )\n",
    "ax.set_xticks(np.arange(2,nEig+1,2))\n",
    "plt.show()\n",
    "\n",
    "# Plot eigenvectors\n",
    "x = np.linspace(0,Nx,Nx)\n",
    "mN = 2 # Mode number to plot\n",
    "fig, ax = plt.subplots(1, 1, figsize=(8,6))\n",
    "ax.plot(x, np.abs(refVecs[:,mN])**2 )\n",
    "\n",
    "\n",
    "plt.show()"
   ]
  },
  {
   "cell_type": "markdown",
   "metadata": {},
   "source": [
    "# Single cavity - Iterative eigenvalue problem for outgoing boundary conditions"
   ]
  },
  {
   "cell_type": "code",
   "execution_count": null,
   "metadata": {},
   "outputs": [],
   "source": [
    "# System parameters\n",
    "# Grid size (number of LC units in JJA resonator) \n",
    "Nx = 1000 \n",
    "# Circuit parameters\n",
    "L, C, Cg = 1.0, 1*100.0, 1.0\n",
    "# Waveguide parameters\n",
    "LW, CW = 1.0, 1.0\n",
    "# Outcoupling parameters\n",
    "Cin, Cout = 1.0, 1.0 # Compare to (Cg+2C)*Nx\n",
    "# Reference eigenvalue\n",
    "# kRef = [0.04]\n",
    "# kRef = np.real(refVals[1:20])\n",
    "kRef = np.real(refVals)\n",
    "nCom = len(kRef)\n",
    "\n",
    "# Solve eigenvalue problem\n",
    "kVals, spEigVecs, errVals = JJAResOpenEigs(Nx, L, C, Cg, LW, CW, Cin, Cout, kRef, errTol=1e-5, itNum=5, disp=\"on\")\n"
   ]
  },
  {
   "cell_type": "code",
   "execution_count": null,
   "metadata": {},
   "outputs": [],
   "source": [
    "# Plot real and imaginary parts\n",
    "fig, ax = plt.subplots(1, 1, figsize=(8,6))\n",
    "ax.scatter(np.real(kVals), -np.imag(kVals) )\n",
    "# ax.set_xticks(np.arange(2,nCom+1,2))\n",
    "ax.set_ylim([-0.000001, -1.1*np.min(np.imag(kVals))])\n",
    "ax.set_ylabel('κn')\n",
    "ax.set_xlabel('ωn')\n",
    "plt.show()\n",
    "np.real(kVals)"
   ]
  },
  {
   "cell_type": "code",
   "execution_count": null,
   "metadata": {},
   "outputs": [],
   "source": [
    "# Plot eigenvectors\n",
    "x = np.linspace(-1,Nx-1,Nx)\n",
    "mN = 31 # Mode number to plot\n",
    "fig, ax = plt.subplots(1, 1, figsize=(8,6))\n",
    "ax.plot(x, np.abs(spEigVecs[:,mN])**2 )\n",
    "ax.set_title('Eigenvalue: ' + str(kVals[mN]))\n",
    "plt.show()"
   ]
  },
  {
   "cell_type": "markdown",
   "metadata": {},
   "source": [
    "## Iterative solver"
   ]
  },
  {
   "cell_type": "code",
   "execution_count": null,
   "metadata": {},
   "outputs": [],
   "source": [
    "# System parameters\n",
    "# Grid size (number of LC units in JJA resonator) \n",
    "Nx = 1000 # Like L\n",
    "# Circuit parameters\n",
    "L, C, Cg = 0.66E-9, 144E-13, 1.89E-16\n",
    "# Number of eigenvalues to compute\n",
    "nEig = 10\n",
    "# Waveguide parameters from http://alignment.hep.brandeis.edu/Lab/XLine/XLine.html\n",
    "LW, CW = 2.52E-9, 1.01E-12\n",
    "# Outcoupling parameters value taken from Masluk et al PRL 2012\n",
    "Cin, Cout = 7E-12, 7E-12\n",
    "\n",
    "eigVals, eigVecs = JJAResOpenIterEigs(Nx, L, C, Cg, LW, CW, Cin, Cout, nEig=nEig, errTol=1e-5, itNum=5, capItNum=10, disp=\"off\")"
   ]
  },
  {
   "cell_type": "code",
   "execution_count": null,
   "metadata": {},
   "outputs": [],
   "source": [
    "Cin/((Cg+2*C)*Nx)"
   ]
  },
  {
   "cell_type": "code",
   "execution_count": null,
   "metadata": {},
   "outputs": [],
   "source": [
    "# Plasma frequency\n",
    "ω0 = np.sqrt(1/(L*C)) \n",
    "\n",
    "# Plot real and imaginary parts\n",
    "fig, axs = plt.subplots(1, 2, figsize=(16,6))\n",
    "ax = axs[0]\n",
    "# ax.scatter(np.real(eigVals)*Nx/np.pi, -np.imag(eigVals)*Nx/np.pi )\n",
    "ax.scatter(np.real(eigVals)/ω0, -np.imag(eigVals)/ω0 )\n",
    "# ax.set_xticks(np.arange(2,nCom+1,2))\n",
    "# ax.set_ylim([-0.000001/ω0, -1.1*np.min(np.imag(eigVals))/ω0])\n",
    "ax.set_xlabel('ωn/π')\n",
    "ax.set_ylabel('κn/π')\n",
    "\n",
    "ax = axs[1]\n",
    "ax.scatter(np.arange(1,nEig,1), np.real(eigVals)/ω0 )\n",
    "ax.plot(np.arange(1,nEig,1), np.real(eigVals)/ω0 )\n",
    "ax.set_xlabel('n')\n",
    "ax.set_ylabel('ωn/π')\n",
    "plt.show()"
   ]
  },
  {
   "cell_type": "code",
   "execution_count": null,
   "metadata": {},
   "outputs": [],
   "source": [
    "np.imag(eigVals[1:])"
   ]
  },
  {
   "cell_type": "code",
   "execution_count": null,
   "metadata": {},
   "outputs": [],
   "source": [
    "ω0/(10**9)"
   ]
  },
  {
   "cell_type": "markdown",
   "metadata": {},
   "source": [
    "# Even-Odd Coupled JJAs closed"
   ]
  },
  {
   "cell_type": "code",
   "execution_count": 6,
   "metadata": {},
   "outputs": [
    {
     "data": {
      "image/png": "[encoded data removed]",
      "text/plain": [
       "<Figure size 576x432 with 1 Axes>"
      ]
     },
     "metadata": {
      "needs_background": "light"
     },
     "output_type": "display_data"
    },
    {
     "data": {
      "image/png": "[encoded data removed]",
      "text/plain": [
       "<Figure size 576x432 with 1 Axes>"
      ]
     },
     "metadata": {
      "needs_background": "light"
     },
     "output_type": "display_data"
    }
   ],
   "source": [
    "# System parameters\n",
    "# Grid size (number of LC units in JJA resonator) \n",
    "Nx = 1000 # Like L\n",
    "# Circuit parameters\n",
    "L, C, Cg = 0.66E-9, 144E-15, 1.89E-16\n",
    "# Junction parameters\n",
    "wJ, Csh = 1.8E9, 3E-15\n",
    "\n",
    "# Number of eigenvalues to compute\n",
    "nEig = 40\n",
    "\n",
    "# Compute reference eigenvalues (closed cavity case, Neumann boundary conditions)\n",
    "refVals1,refVals2, refVecs1,refVecs2 = JJACoupledClosedEigs(Nx, L, C, Cg, wJ, Csh, nEig=nEig, bc=\"neu\")\n",
    "\n",
    "# Plot frequencies\n",
    "fig, ax = plt.subplots(1, 1, figsize=(8,6))\n",
    "ax.scatter(np.arange(1,nEig+1,1), np.real(refVals1) )\n",
    "# ax.plot(np.arange(1,nEig+1,1), np.real(refVals1) )\n",
    "\n",
    "ax.scatter(np.arange(1,nEig+1,1), np.real(refVals2) )\n",
    "# ax.plot(np.arange(1,nEig+1,1), np.real(refVals2) )\n",
    "ax.set_xticks(np.arange(2,nEig+1,2))\n",
    "plt.show()\n",
    "NN = round(Nx/2)\n",
    "# Plot eigenvectors\n",
    "x = np.linspace(0,NN,NN)\n",
    "mN = 1 # Mode number to plot\n",
    "fig, ax = plt.subplots(1, 1, figsize=(8,6))\n",
    "\n",
    "# Construct original basis eigenvectors\n",
    "ΦL = np.zeros( (NN,nEig-1), dtype=complex)\n",
    "ΦR = np.zeros( (NN,nEig-1), dtype=complex)\n",
    "for n in range(1,nEig-1):\n",
    "    mN = n\n",
    "    Φp = refVecs1[:,mN+0]\n",
    "    Φm = refVecs1[:,mN-1]\n",
    "    \n",
    "    ΦL[:,n] = (Φp/la.norm(Φp) + Φm/la.norm(Φm))\n",
    "    ΦR[:,n] = (Φp/la.norm(Φp) - Φm/la.norm(Φm))\n",
    "    # Flip ΦL\n",
    "    ΦL[:,n] = ΦL[::-1,n]\n",
    "\n",
    "# Mode number\n",
    "mN = 2\n",
    "# ax.plot(x, np.abs(ΦL[:,mN])**2 )\n",
    "# ax.plot(NN+x, np.abs(ΦR[:,mN])**2 )\n",
    "ax.plot(x, np.abs(refVecs1[:,mN]/la.norm(refVecs1[:,mN]))**2 )\n",
    "ax.plot(x, np.abs(refVecs2[:,mN-1]/la.norm(refVecs2[:,mN-1]))**2 )\n",
    "plt.show()"
   ]
  },
  {
   "cell_type": "markdown",
   "metadata": {},
   "source": [
    "# Even-Odd Coupled JJAs open"
   ]
  },
  {
   "cell_type": "code",
   "execution_count": null,
   "metadata": {},
   "outputs": [],
   "source": [
    "# System parameters\n",
    "# Grid size (number of LC units in JJA resonator) \n",
    "Nx = 1000 # Like L\n",
    "# Circuit parameters\n",
    "L, C, Cg = 0.66E-9, 144E-15, 1.89E-16\n",
    "# Junction parameters\n",
    "wJ, Csh = 1.8E9, 3E-15\n",
    "# Waveguide parameters from http://alignment.hep.brandeis.edu/Lab/XLine/XLine.html\n",
    "LW, CW = 2.52E-9, 1.01E-12\n",
    "# Outcoupling parameters value taken from Masluk et al PRL 2012\n",
    "Cin, Cout = 7E-16, 7E-16\n",
    "# Number of eigenvalues to compute\n",
    "nEig = 10\n",
    "\n",
    "eigVals1, eigVals2, eigVecs1, eigVecs2 = JJACoupledOpenIterEigs(Nx, L, C, Cg,wJ, Csh, LW, CW, Cin, Cout, nEig=40, errTol=1e-5, itNum=5, capItNum=5, disp=\"on\")\n",
    "\n",
    "\n",
    "# Plot real and imaginary parts\n",
    "fig, axs = plt.subplots(1, 2, figsize=(16,6))\n",
    "ax = axs[0]\n",
    "ax.scatter(np.real(eigVals1)*NN/np.pi, -np.imag(eigVals1)*NN/np.pi )\n",
    "# ax.set_xticks(np.arange(2,nCom+1,2))\n",
    "ax.set_ylim([-0.000001*NN/np.pi, -1.1*np.min(np.imag(eigVals1))*NN/np.pi])\n",
    "ax.set_xlabel('ωn/π')\n",
    "ax.set_ylabel('κn/π')\n",
    "\n",
    "ax = axs[1]\n",
    "ax.scatter(np.arange(1,nEig,1), np.real(eigVals1)*NN/np.pi )\n",
    "ax.plot(np.arange(1,nEig,1), np.real(eigVals1)*NN/np.pi )\n",
    "ax.set_xlabel('n')\n",
    "ax.set_ylabel('ωn/π')\n",
    "plt.show()"
   ]
  },
  {
   "cell_type": "code",
   "execution_count": null,
   "metadata": {},
   "outputs": [],
   "source": []
  }
 ],
 "metadata": {
  "kernelspec": {
   "display_name": "Python 3",
   "language": "python",
   "name": "python3"
  },
  "language_info": {
   "codemirror_mode": {
    "name": "ipython",
    "version": 3
   },
   "file_extension": ".py",
   "mimetype": "text/x-python",
   "name": "python",
   "nbconvert_exporter": "python",
   "pygments_lexer": "ipython3",
   "version": "3.7.4"
  }
 },
 "nbformat": 4,
 "nbformat_minor": 2
}
